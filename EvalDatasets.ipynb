{
 "cells": [
  {
   "cell_type": "code",
   "execution_count": null,
   "id": "450673b0",
   "metadata": {},
   "outputs": [],
   "source": [
    "import scipy.io\n",
    "import numpy as np\n",
    "from os import listdir\n",
    "from os.path import isfile, join\n",
    "from monai.utils import first, set_determinism\n",
    "from monai.transforms import (\n",
    "    Activations,\n",
    "    AsDiscrete,\n",
    "    AsDiscreted,\n",
    "    EnsureChannelFirstd,\n",
    "    Compose,\n",
    "    CropForegroundd,\n",
    "    LoadImaged,\n",
    "    Orientationd,\n",
    "    RandCropByPosNegLabeld,\n",
    "    SaveImaged,\n",
    "    ScaleIntensityRanged,\n",
    "    Spacingd,\n",
    "    EnsureTyped,\n",
    "    EnsureType,\n",
    "    Invertd,\n",
    "    LoadImage,\n",
    "    RandAffined,\n",
    "    PadListDataCollate,\n",
    "    RandSpatialCropd,\n",
    "    SpatialPadd,\n",
    "    RandFlipd,\n",
    "    RandCropByPosNegLabeld,\n",
    "    RandShiftIntensityd,\n",
    "    ScaleIntensityRanged,\n",
    "    RandRotate90d,\n",
    "    NormalizeIntensityd\n",
    ")\n",
    "from monai.handlers.utils import from_engine\n",
    "from monai.networks.nets import UNet\n",
    "from monai.networks.layers import Norm\n",
    "from monai.metrics import DiceMetric\n",
    "from monai.losses import DiceLoss\n",
    "from monai.inferers import sliding_window_inference\n",
    "from monai.data import CacheDataset, DataLoader, Dataset, decollate_batch\n",
    "from monai.config import print_config\n",
    "from monai.apps import download_and_extract\n",
    "import torch\n",
    "import matplotlib.pyplot as plt\n",
    "import tempfile\n",
    "import shutil\n",
    "import os\n",
    "import glob\n",
    "import monai\n",
    "import SimpleITK as sitk"
   ]
  },
  {
   "cell_type": "code",
   "execution_count": null,
   "id": "638c9651",
   "metadata": {},
   "outputs": [],
   "source": [
    "cuda = torch.cuda.is_available()\n",
    "\n",
    "device = torch.device(\"cuda\" if cuda else \"cpu\")\n",
    "num_workers = 4 if cuda else 0\n",
    "\n",
    "print('You are using gpu if true, cpu if false:', cuda)"
   ]
  },
  {
   "cell_type": "code",
   "execution_count": null,
   "id": "55126d7b",
   "metadata": {},
   "outputs": [],
   "source": [
    "data_dir = '' #enter location of 2P datasets\n",
    "\n",
    "val_images = sorted(\n",
    "    glob.glob(os.path.join(data_dir, \"*nii*\")))\n",
    "\n",
    "val_files = [\n",
    "    {\"image\": image_name}\n",
    "    for image_name in zip(val_images)\n",
    "]"
   ]
  },
  {
   "cell_type": "code",
   "execution_count": null,
   "id": "360f3199",
   "metadata": {},
   "outputs": [],
   "source": [
    "val_transforms = Compose(\n",
    "    [\n",
    "        LoadImaged(keys=[\"image\"]),\n",
    "        EnsureChannelFirstd(keys=[\"image\"]),\n",
    "        EnsureTyped(keys=[\"image\"]),\n",
    "    ]\n",
    ")"
   ]
  },
  {
   "cell_type": "code",
   "execution_count": null,
   "id": "441c3dc7",
   "metadata": {},
   "outputs": [],
   "source": [
    "val_ds = Dataset(data=val_files, transform=val_transforms)\n",
    "val_loader = DataLoader(val_ds, batch_size=1,num_workers=0)"
   ]
  },
  {
   "cell_type": "code",
   "execution_count": null,
   "id": "b9767d0b",
   "metadata": {},
   "outputs": [],
   "source": [
    "roi = [256,256,224]\n",
    "max_epochs = 1500\n",
    "val_interval = 20\n",
    "batchsz = 2\n",
    "\n",
    "model = UNet(\n",
    "    spatial_dims=3,\n",
    "    in_channels=1,\n",
    "    out_channels=2,\n",
    "    channels=(16, 32, 64, 128, 256),\n",
    "    strides=(2, 2, 2, 2),\n",
    "    num_res_units=2,\n",
    "    norm=Norm.BATCH,\n",
    ").to(device)\n",
    "\n",
    "loss_function = DiceLoss(to_onehot_y=True, softmax=True)\n",
    "optimizer = torch.optim.Adam(model.parameters(), 3e-4, weight_decay = 1e-6)"
   ]
  },
  {
   "cell_type": "code",
   "execution_count": null,
   "id": "56807561",
   "metadata": {},
   "outputs": [],
   "source": [
    "temp = torch.load('') #load .pt file \n",
    "model.load_state_dict(temp['model_state_dict'])\n",
    "savepath = data_dir+\"mask_\""
   ]
  },
  {
   "cell_type": "code",
   "execution_count": null,
   "id": "977bc314",
   "metadata": {},
   "outputs": [],
   "source": [
    "with torch.no_grad():\n",
    "    for i, val_data in enumerate(val_loader):\n",
    "        model.eval()\n",
    "        roi_size = (256, 256, 192)\n",
    "        sw_batch_size = 1\n",
    "        val_outputs = sliding_window_inference(\n",
    "            val_data[\"image\"].to(device), roi_size, sw_batch_size, model\n",
    "        )\n",
    "        im_final = torch.argmax(\n",
    "            val_outputs, dim=1).detach().cpu().numpy()\n",
    "        im_final = im_final[0,:,:,:].astype('int16')\n",
    "        im_final = im_final.transpose(2,0,1)\n",
    "        im_itk = sitk.GetImageFromArray(im_final)\n",
    "        imagename = val_images[i].replace(data_dir,'')\n",
    "        savepath_new = savepath + imagename \n",
    "        sitk.WriteImage(im_itk, savepath)\n",
    "        "
   ]
  },
  {
   "cell_type": "code",
   "execution_count": null,
   "id": "6d19e986",
   "metadata": {},
   "outputs": [],
   "source": []
  }
 ],
 "metadata": {
  "kernelspec": {
   "display_name": "Python 3 (ipykernel)",
   "language": "python",
   "name": "python3"
  },
  "language_info": {
   "codemirror_mode": {
    "name": "ipython",
    "version": 3
   },
   "file_extension": ".py",
   "mimetype": "text/x-python",
   "name": "python",
   "nbconvert_exporter": "python",
   "pygments_lexer": "ipython3",
   "version": "3.9.12"
  }
 },
 "nbformat": 4,
 "nbformat_minor": 5
}
